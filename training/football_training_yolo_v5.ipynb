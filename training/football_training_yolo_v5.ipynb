{
  "cells": [
    {
      "cell_type": "code",
      "execution_count": 3,
      "metadata": {
        "colab": {
          "base_uri": "https://localhost:8080/"
        },
        "id": "GfRb5NoDH97w",
        "outputId": "b60381cf-1cb6-42ba-a8f0-ed55383b6405"
      },
      "outputs": [
        {
          "name": "stdout",
          "output_type": "stream",
          "text": [
            "Defaulting to user installation because normal site-packages is not writeable\n",
            "Requirement already satisfied: python-dotenv in /Users/noor/Library/Python/3.9/lib/python/site-packages (1.0.1)\n",
            "Defaulting to user installation because normal site-packages is not writeable\n",
            "Requirement already satisfied: ultralytics in /Users/noor/Library/Python/3.9/lib/python/site-packages (8.2.28)\n",
            "Requirement already satisfied: matplotlib>=3.3.0 in /Users/noor/Library/Python/3.9/lib/python/site-packages (from ultralytics) (3.9.0)\n",
            "Requirement already satisfied: opencv-python>=4.6.0 in /Users/noor/Library/Python/3.9/lib/python/site-packages (from ultralytics) (4.9.0.80)\n",
            "Requirement already satisfied: pillow>=7.1.2 in /Users/noor/Library/Python/3.9/lib/python/site-packages (from ultralytics) (10.3.0)\n",
            "Requirement already satisfied: pyyaml>=5.3.1 in /Users/noor/Library/Python/3.9/lib/python/site-packages (from ultralytics) (6.0.1)\n",
            "Requirement already satisfied: requests>=2.23.0 in /Users/noor/Library/Python/3.9/lib/python/site-packages (from ultralytics) (2.32.3)\n",
            "Requirement already satisfied: scipy>=1.4.1 in /Users/noor/Library/Python/3.9/lib/python/site-packages (from ultralytics) (1.13.1)\n",
            "Requirement already satisfied: torch>=1.8.0 in /Users/noor/Library/Python/3.9/lib/python/site-packages (from ultralytics) (2.2.2)\n",
            "Requirement already satisfied: torchvision>=0.9.0 in /Users/noor/Library/Python/3.9/lib/python/site-packages (from ultralytics) (0.17.2)\n",
            "Requirement already satisfied: tqdm>=4.64.0 in /Users/noor/Library/Python/3.9/lib/python/site-packages (from ultralytics) (4.66.4)\n",
            "Requirement already satisfied: psutil in /Users/noor/Library/Python/3.9/lib/python/site-packages (from ultralytics) (5.9.8)\n",
            "Requirement already satisfied: py-cpuinfo in /Users/noor/Library/Python/3.9/lib/python/site-packages (from ultralytics) (9.0.0)\n",
            "Requirement already satisfied: pandas>=1.1.4 in /Users/noor/Library/Python/3.9/lib/python/site-packages (from ultralytics) (2.2.2)\n",
            "Requirement already satisfied: seaborn>=0.11.0 in /Users/noor/Library/Python/3.9/lib/python/site-packages (from ultralytics) (0.13.2)\n",
            "Requirement already satisfied: ultralytics-thop>=0.2.5 in /Users/noor/Library/Python/3.9/lib/python/site-packages (from ultralytics) (0.2.7)\n",
            "Requirement already satisfied: contourpy>=1.0.1 in /Users/noor/Library/Python/3.9/lib/python/site-packages (from matplotlib>=3.3.0->ultralytics) (1.2.1)\n",
            "Requirement already satisfied: cycler>=0.10 in /Users/noor/Library/Python/3.9/lib/python/site-packages (from matplotlib>=3.3.0->ultralytics) (0.12.1)\n",
            "Requirement already satisfied: fonttools>=4.22.0 in /Users/noor/Library/Python/3.9/lib/python/site-packages (from matplotlib>=3.3.0->ultralytics) (4.53.0)\n",
            "Requirement already satisfied: kiwisolver>=1.3.1 in /Users/noor/Library/Python/3.9/lib/python/site-packages (from matplotlib>=3.3.0->ultralytics) (1.4.5)\n",
            "Requirement already satisfied: numpy>=1.23 in /Users/noor/Library/Python/3.9/lib/python/site-packages (from matplotlib>=3.3.0->ultralytics) (1.26.4)\n",
            "Requirement already satisfied: packaging>=20.0 in /Users/noor/Library/Python/3.9/lib/python/site-packages (from matplotlib>=3.3.0->ultralytics) (24.0)\n",
            "Requirement already satisfied: pyparsing>=2.3.1 in /Users/noor/Library/Python/3.9/lib/python/site-packages (from matplotlib>=3.3.0->ultralytics) (3.1.2)\n",
            "Requirement already satisfied: python-dateutil>=2.7 in /Users/noor/Library/Python/3.9/lib/python/site-packages (from matplotlib>=3.3.0->ultralytics) (2.9.0.post0)\n",
            "Requirement already satisfied: importlib-resources>=3.2.0 in /Users/noor/Library/Python/3.9/lib/python/site-packages (from matplotlib>=3.3.0->ultralytics) (6.4.0)\n",
            "Requirement already satisfied: pytz>=2020.1 in /Users/noor/Library/Python/3.9/lib/python/site-packages (from pandas>=1.1.4->ultralytics) (2024.1)\n",
            "Requirement already satisfied: tzdata>=2022.7 in /Users/noor/Library/Python/3.9/lib/python/site-packages (from pandas>=1.1.4->ultralytics) (2024.1)\n",
            "Requirement already satisfied: charset-normalizer<4,>=2 in /Users/noor/Library/Python/3.9/lib/python/site-packages (from requests>=2.23.0->ultralytics) (3.3.2)\n",
            "Requirement already satisfied: idna<4,>=2.5 in /Users/noor/Library/Python/3.9/lib/python/site-packages (from requests>=2.23.0->ultralytics) (3.7)\n",
            "Requirement already satisfied: urllib3<3,>=1.21.1 in /Users/noor/Library/Python/3.9/lib/python/site-packages (from requests>=2.23.0->ultralytics) (2.2.1)\n",
            "Requirement already satisfied: certifi>=2017.4.17 in /Users/noor/Library/Python/3.9/lib/python/site-packages (from requests>=2.23.0->ultralytics) (2024.6.2)\n",
            "Requirement already satisfied: filelock in /Users/noor/Library/Python/3.9/lib/python/site-packages (from torch>=1.8.0->ultralytics) (3.14.0)\n",
            "Requirement already satisfied: typing-extensions>=4.8.0 in /Users/noor/Library/Python/3.9/lib/python/site-packages (from torch>=1.8.0->ultralytics) (4.12.1)\n",
            "Requirement already satisfied: sympy in /Users/noor/Library/Python/3.9/lib/python/site-packages (from torch>=1.8.0->ultralytics) (1.12.1)\n",
            "Requirement already satisfied: networkx in /Users/noor/Library/Python/3.9/lib/python/site-packages (from torch>=1.8.0->ultralytics) (3.2.1)\n",
            "Requirement already satisfied: jinja2 in /Users/noor/Library/Python/3.9/lib/python/site-packages (from torch>=1.8.0->ultralytics) (3.1.4)\n",
            "Requirement already satisfied: fsspec in /Users/noor/Library/Python/3.9/lib/python/site-packages (from torch>=1.8.0->ultralytics) (2024.5.0)\n",
            "Requirement already satisfied: zipp>=3.1.0 in /Users/noor/Library/Python/3.9/lib/python/site-packages (from importlib-resources>=3.2.0->matplotlib>=3.3.0->ultralytics) (3.19.1)\n",
            "Requirement already satisfied: six>=1.5 in /Library/Developer/CommandLineTools/Library/Frameworks/Python3.framework/Versions/3.9/lib/python3.9/site-packages (from python-dateutil>=2.7->matplotlib>=3.3.0->ultralytics) (1.15.0)\n",
            "Requirement already satisfied: MarkupSafe>=2.0 in /Users/noor/Library/Python/3.9/lib/python/site-packages (from jinja2->torch>=1.8.0->ultralytics) (2.1.5)\n",
            "Requirement already satisfied: mpmath<1.4.0,>=1.1.0 in /Users/noor/Library/Python/3.9/lib/python/site-packages (from sympy->torch>=1.8.0->ultralytics) (1.3.0)\n",
            "Defaulting to user installation because normal site-packages is not writeable\n",
            "Collecting roboflow\n",
            "  Downloading roboflow-1.1.30-py3-none-any.whl.metadata (9.3 kB)\n",
            "Collecting certifi==2023.7.22 (from roboflow)\n",
            "  Downloading certifi-2023.7.22-py3-none-any.whl.metadata (2.2 kB)\n",
            "Collecting chardet==4.0.0 (from roboflow)\n",
            "  Downloading chardet-4.0.0-py2.py3-none-any.whl.metadata (3.5 kB)\n",
            "Collecting cycler==0.10.0 (from roboflow)\n",
            "  Downloading cycler-0.10.0-py2.py3-none-any.whl.metadata (722 bytes)\n",
            "Collecting idna==2.10 (from roboflow)\n",
            "  Downloading idna-2.10-py2.py3-none-any.whl.metadata (9.1 kB)\n",
            "Requirement already satisfied: kiwisolver>=1.3.1 in /Users/noor/Library/Python/3.9/lib/python/site-packages (from roboflow) (1.4.5)\n",
            "Requirement already satisfied: matplotlib in /Users/noor/Library/Python/3.9/lib/python/site-packages (from roboflow) (3.9.0)\n",
            "Requirement already satisfied: numpy>=1.18.5 in /Users/noor/Library/Python/3.9/lib/python/site-packages (from roboflow) (1.26.4)\n",
            "Collecting opencv-python-headless==4.8.0.74 (from roboflow)\n",
            "  Downloading opencv_python_headless-4.8.0.74-cp37-abi3-macosx_10_16_x86_64.whl.metadata (19 kB)\n",
            "Requirement already satisfied: Pillow>=7.1.2 in /Users/noor/Library/Python/3.9/lib/python/site-packages (from roboflow) (10.3.0)\n",
            "Requirement already satisfied: python-dateutil in /Users/noor/Library/Python/3.9/lib/python/site-packages (from roboflow) (2.9.0.post0)\n",
            "Requirement already satisfied: python-dotenv in /Users/noor/Library/Python/3.9/lib/python/site-packages (from roboflow) (1.0.1)\n",
            "Requirement already satisfied: requests in /Users/noor/Library/Python/3.9/lib/python/site-packages (from roboflow) (2.32.3)\n",
            "Requirement already satisfied: six in /Library/Developer/CommandLineTools/Library/Frameworks/Python3.framework/Versions/3.9/lib/python3.9/site-packages (from roboflow) (1.15.0)\n",
            "Requirement already satisfied: urllib3>=1.26.6 in /Users/noor/Library/Python/3.9/lib/python/site-packages (from roboflow) (2.2.1)\n",
            "Requirement already satisfied: tqdm>=4.41.0 in /Users/noor/Library/Python/3.9/lib/python/site-packages (from roboflow) (4.66.4)\n",
            "Requirement already satisfied: PyYAML>=5.3.1 in /Users/noor/Library/Python/3.9/lib/python/site-packages (from roboflow) (6.0.1)\n",
            "Collecting requests-toolbelt (from roboflow)\n",
            "  Downloading requests_toolbelt-1.0.0-py2.py3-none-any.whl.metadata (14 kB)\n",
            "Collecting python-magic (from roboflow)\n",
            "  Downloading python_magic-0.4.27-py2.py3-none-any.whl.metadata (5.8 kB)\n",
            "Requirement already satisfied: contourpy>=1.0.1 in /Users/noor/Library/Python/3.9/lib/python/site-packages (from matplotlib->roboflow) (1.2.1)\n",
            "Requirement already satisfied: fonttools>=4.22.0 in /Users/noor/Library/Python/3.9/lib/python/site-packages (from matplotlib->roboflow) (4.53.0)\n",
            "Requirement already satisfied: packaging>=20.0 in /Users/noor/Library/Python/3.9/lib/python/site-packages (from matplotlib->roboflow) (24.0)\n",
            "Requirement already satisfied: pyparsing>=2.3.1 in /Users/noor/Library/Python/3.9/lib/python/site-packages (from matplotlib->roboflow) (3.1.2)\n",
            "Requirement already satisfied: importlib-resources>=3.2.0 in /Users/noor/Library/Python/3.9/lib/python/site-packages (from matplotlib->roboflow) (6.4.0)\n",
            "Requirement already satisfied: charset-normalizer<4,>=2 in /Users/noor/Library/Python/3.9/lib/python/site-packages (from requests->roboflow) (3.3.2)\n",
            "Requirement already satisfied: zipp>=3.1.0 in /Users/noor/Library/Python/3.9/lib/python/site-packages (from importlib-resources>=3.2.0->matplotlib->roboflow) (3.19.1)\n",
            "\u001b[33mWARNING: The candidate selected for download or install is a yanked version: 'opencv-python-headless' candidate (version 4.8.0.74 at https://files.pythonhosted.org/packages/04/db/5788fa8d1431f05ad896531ebd2165b665b1ef67613ce926a3a7206c4833/opencv_python_headless-4.8.0.74-cp37-abi3-macosx_10_16_x86_64.whl (from https://pypi.org/simple/opencv-python-headless/) (requires-python:>=3.6))\n",
            "Reason for being yanked: deprecated, use 4.8.0.76\u001b[0m\u001b[33m\n",
            "\u001b[0mDownloading roboflow-1.1.30-py3-none-any.whl (75 kB)\n",
            "\u001b[2K   \u001b[90m━━━━━━━━━━━━━━━━━━━━━━━━━━━━━━━━━━━━━━━━\u001b[0m \u001b[32m75.5/75.5 kB\u001b[0m \u001b[31m571.6 kB/s\u001b[0m eta \u001b[36m0:00:00\u001b[0ma \u001b[36m0:00:01\u001b[0m\n",
            "\u001b[?25hDownloading certifi-2023.7.22-py3-none-any.whl (158 kB)\n",
            "\u001b[2K   \u001b[90m━━━━━━━━━━━━━━━━━━━━━━━━━━━━━━━━━━━━━━━━\u001b[0m \u001b[32m158.3/158.3 kB\u001b[0m \u001b[31m1.3 MB/s\u001b[0m eta \u001b[36m0:00:00\u001b[0ma \u001b[36m0:00:01\u001b[0m\n",
            "\u001b[?25hDownloading chardet-4.0.0-py2.py3-none-any.whl (178 kB)\n",
            "\u001b[2K   \u001b[90m━━━━━━━━━━━━━━━━━━━━━━━━━━━━━━━━━━━━━━━━\u001b[0m \u001b[32m178.7/178.7 kB\u001b[0m \u001b[31m3.6 MB/s\u001b[0m eta \u001b[36m0:00:00\u001b[0mta \u001b[36m0:00:01\u001b[0m\n",
            "\u001b[?25hDownloading cycler-0.10.0-py2.py3-none-any.whl (6.5 kB)\n",
            "Downloading idna-2.10-py2.py3-none-any.whl (58 kB)\n",
            "\u001b[2K   \u001b[90m━━━━━━━━━━━━━━━━━━━━━━━━━━━━━━━━━━━━━━━━\u001b[0m \u001b[32m58.8/58.8 kB\u001b[0m \u001b[31m1.9 MB/s\u001b[0m eta \u001b[36m0:00:00\u001b[0m\n",
            "\u001b[?25hDownloading opencv_python_headless-4.8.0.74-cp37-abi3-macosx_10_16_x86_64.whl (54.6 MB)\n",
            "\u001b[2K   \u001b[90m━━━━━━━━━━━━━━━━━━━━━━━━━━━━━━━━━━━━━━━━\u001b[0m \u001b[32m54.6/54.6 MB\u001b[0m \u001b[31m28.9 MB/s\u001b[0m eta \u001b[36m0:00:00\u001b[0m00:01\u001b[0m00:01\u001b[0m\n",
            "\u001b[?25hDownloading python_magic-0.4.27-py2.py3-none-any.whl (13 kB)\n",
            "Downloading requests_toolbelt-1.0.0-py2.py3-none-any.whl (54 kB)\n",
            "\u001b[2K   \u001b[90m━━━━━━━━━━━━━━━━━━━━━━━━━━━━━━━━━━━━━━━━\u001b[0m \u001b[32m54.5/54.5 kB\u001b[0m \u001b[31m1.7 MB/s\u001b[0m eta \u001b[36m0:00:00\u001b[0m\n",
            "\u001b[?25hInstalling collected packages: python-magic, opencv-python-headless, idna, cycler, chardet, certifi, requests-toolbelt, roboflow\n",
            "  Attempting uninstall: idna\n",
            "    Found existing installation: idna 3.7\n",
            "    Uninstalling idna-3.7:\n",
            "      Successfully uninstalled idna-3.7\n",
            "  Attempting uninstall: cycler\n",
            "    Found existing installation: cycler 0.12.1\n",
            "    Uninstalling cycler-0.12.1:\n",
            "      Successfully uninstalled cycler-0.12.1\n",
            "  Attempting uninstall: certifi\n",
            "    Found existing installation: certifi 2024.6.2\n",
            "    Uninstalling certifi-2024.6.2:\n",
            "      Successfully uninstalled certifi-2024.6.2\n",
            "Successfully installed certifi-2023.7.22 chardet-4.0.0 cycler-0.10.0 idna-2.10 opencv-python-headless-4.8.0.74 python-magic-0.4.27 requests-toolbelt-1.0.0 roboflow-1.1.30\n"
          ]
        }
      ],
      "source": [
        "!pip install python-dotenv\n",
        "\n",
        "!pip install ultralytics\n",
        "!pip install roboflow\n",
        "\n"
      ]
    },
    {
      "cell_type": "markdown",
      "metadata": {
        "id": "RPzeoiBjH97z"
      },
      "source": [
        "# get dataset"
      ]
    },
    {
      "cell_type": "code",
      "execution_count": 9,
      "metadata": {
        "colab": {
          "base_uri": "https://localhost:8080/"
        },
        "id": "fLKDDriAH971",
        "outputId": "a0952d90-3277-44a2-a425-0534fd3aed88"
      },
      "outputs": [
        {
          "name": "stdout",
          "output_type": "stream",
          "text": [
            "loading Roboflow workspace...\n",
            "loading Roboflow project...\n",
            "dataset downloaded\n"
          ]
        }
      ],
      "source": [
        "import os\n",
        "from dotenv import load_dotenv\n",
        "load_dotenv()\n",
        "ROBOFLOW_API_KEY = os.getenv(\"ROBOFLOW_API_KEY\")\n",
        "\n",
        "from roboflow import Roboflow\n",
        "rf = Roboflow(api_key=ROBOFLOW_API_KEY)\n",
        "project = rf.workspace(\"roboflow-jvuqo\").project(\"football-players-detection-3zvbc\")\n",
        "version = project.version(1)\n",
        "dataset = version.download(\"yolov5\")\n"
      ]
    },
    {
      "cell_type": "code",
      "execution_count": null,
      "metadata": {},
      "outputs": [],
      "source": []
    },
    {
      "cell_type": "code",
      "execution_count": null,
      "metadata": {},
      "outputs": [],
      "source": []
    },
    {
      "cell_type": "code",
      "execution_count": 5,
      "metadata": {
        "colab": {
          "base_uri": "https://localhost:8080/",
          "height": 35
        },
        "id": "1wtP5vRsH972",
        "outputId": "cd04a1f1-6f47-4efb-d1aa-68504ac939a4"
      },
      "outputs": [
        {
          "data": {
            "text/plain": [
              "'/Users/noor/code/opencv-football/training/football-players-detection-1'"
            ]
          },
          "execution_count": 5,
          "metadata": {},
          "output_type": "execute_result"
        }
      ],
      "source": [
        "dataset.location"
      ]
    },
    {
      "cell_type": "code",
      "execution_count": 6,
      "metadata": {
        "colab": {
          "base_uri": "https://localhost:8080/",
          "height": 775
        },
        "collapsed": true,
        "id": "xqm5DKfbH972",
        "outputId": "b215b782-fdf9-40fd-da50-b1dedf2f7170"
      },
      "outputs": [
        {
          "data": {
            "text/plain": [
              "'football-players-detection-1/football-players-detection-1/valid'"
            ]
          },
          "execution_count": 6,
          "metadata": {},
          "output_type": "execute_result"
        }
      ],
      "source": [
        "# move dataset files in training format requirement for ultralytics\n",
        "import shutil\n",
        "shutil.move('football-players-detection-1/test',\n",
        "             'football-players-detection-1/football-players-detection-1/test',)\n",
        "shutil.move('football-players-detection-1/train',\n",
        "             'football-players-detection-1/football-players-detection-1/train',)\n",
        "shutil.move('football-players-detection-1/valid',\n",
        "             'football-players-detection-1/football-players-detection-1/valid',)"
      ]
    },
    {
      "cell_type": "markdown",
      "metadata": {
        "id": "IiKgnnaoH973"
      },
      "source": [
        "# Training"
      ]
    },
    {
      "cell_type": "code",
      "execution_count": 7,
      "metadata": {
        "colab": {
          "base_uri": "https://localhost:8080/"
        },
        "id": "nUcPadWaH973",
        "outputId": "86025130-e5f8-4cb4-a7a3-35af22a395aa"
      },
      "outputs": [
        {
          "name": "stdout",
          "output_type": "stream",
          "text": [
            "/Users/noor/Library/Python/3.9/lib/python/site-packages/urllib3/__init__.py:35: NotOpenSSLWarning: urllib3 v2 only supports OpenSSL 1.1.1+, currently the 'ssl' module is compiled with 'LibreSSL 2.8.3'. See: https://github.com/urllib3/urllib3/issues/3020\n",
            "  warnings.warn(\n",
            "PRO TIP 💡 Replace 'model=yolov5x.pt' with new 'model=yolov5xu.pt'.\n",
            "YOLOv5 'u' models are trained with https://github.com/ultralytics/ultralytics and feature improved performance vs standard YOLOv5 models trained with https://github.com/ultralytics/yolov5.\n",
            "\n",
            "Downloading https://github.com/ultralytics/assets/releases/download/v8.2.0/yolov5xu.pt to 'yolov5xu.pt'...\n",
            "100%|████████████████████████████████████████| 186M/186M [00:06<00:00, 32.3MB/s]\n",
            "Ultralytics YOLOv8.2.28 🚀 Python-3.9.6 torch-2.2.2 CPU (Intel Core(TM) i7-8850H 2.60GHz)\n",
            "\u001b[34m\u001b[1mengine/trainer: \u001b[0mtask=detect, mode=train, model=yolov5x.pt, data=/Users/noor/code/opencv-football/training/football-players-detection-1/data.yaml, epochs=100, time=None, patience=100, batch=15, imgsz=640, save=True, save_period=-1, cache=False, device=None, workers=8, project=None, name=train, exist_ok=False, pretrained=True, optimizer=auto, verbose=True, seed=0, deterministic=True, single_cls=False, rect=False, cos_lr=False, close_mosaic=10, resume=False, amp=True, fraction=1.0, profile=False, freeze=None, multi_scale=False, overlap_mask=True, mask_ratio=4, dropout=0.0, val=True, split=val, save_json=False, save_hybrid=False, conf=None, iou=0.7, max_det=300, half=False, dnn=False, plots=True, source=None, vid_stride=1, stream_buffer=False, visualize=False, augment=False, agnostic_nms=False, classes=None, retina_masks=False, embed=None, show=False, save_frames=False, save_txt=False, save_conf=False, save_crop=False, show_labels=True, show_conf=True, show_boxes=True, line_width=None, format=torchscript, keras=False, optimize=False, int8=False, dynamic=False, simplify=False, opset=None, workspace=4, nms=False, lr0=0.01, lrf=0.01, momentum=0.937, weight_decay=0.0005, warmup_epochs=3.0, warmup_momentum=0.8, warmup_bias_lr=0.1, box=7.5, cls=0.5, dfl=1.5, pose=12.0, kobj=1.0, label_smoothing=0.0, nbs=64, hsv_h=0.015, hsv_s=0.7, hsv_v=0.4, degrees=0.0, translate=0.1, scale=0.5, shear=0.0, perspective=0.0, flipud=0.0, fliplr=0.5, bgr=0.0, mosaic=1.0, mixup=0.0, copy_paste=0.0, auto_augment=randaugment, erasing=0.4, crop_fraction=1.0, cfg=None, tracker=botsort.yaml, save_dir=runs/detect/train\n",
            "Overriding model.yaml nc=80 with nc=4\n",
            "\n",
            "                   from  n    params  module                                       arguments                     \n",
            "  0                  -1  1      8800  ultralytics.nn.modules.conv.Conv             [3, 80, 6, 2, 2]              \n",
            "  1                  -1  1    115520  ultralytics.nn.modules.conv.Conv             [80, 160, 3, 2]               \n",
            "  2                  -1  4    309120  ultralytics.nn.modules.block.C3              [160, 160, 4]                 \n",
            "  3                  -1  1    461440  ultralytics.nn.modules.conv.Conv             [160, 320, 3, 2]              \n",
            "  4                  -1  8   2259200  ultralytics.nn.modules.block.C3              [320, 320, 8]                 \n",
            "  5                  -1  1   1844480  ultralytics.nn.modules.conv.Conv             [320, 640, 3, 2]              \n",
            "  6                  -1 12  13125120  ultralytics.nn.modules.block.C3              [640, 640, 12]                \n",
            "  7                  -1  1   7375360  ultralytics.nn.modules.conv.Conv             [640, 1280, 3, 2]             \n",
            "  8                  -1  4  19676160  ultralytics.nn.modules.block.C3              [1280, 1280, 4]               \n",
            "  9                  -1  1   4099840  ultralytics.nn.modules.block.SPPF            [1280, 1280, 5]               \n",
            " 10                  -1  1    820480  ultralytics.nn.modules.conv.Conv             [1280, 640, 1, 1]             \n",
            " 11                  -1  1         0  torch.nn.modules.upsampling.Upsample         [None, 2, 'nearest']          \n",
            " 12             [-1, 6]  1         0  ultralytics.nn.modules.conv.Concat           [1]                           \n",
            " 13                  -1  4   5332480  ultralytics.nn.modules.block.C3              [1280, 640, 4, False]         \n",
            " 14                  -1  1    205440  ultralytics.nn.modules.conv.Conv             [640, 320, 1, 1]              \n",
            " 15                  -1  1         0  torch.nn.modules.upsampling.Upsample         [None, 2, 'nearest']          \n",
            " 16             [-1, 4]  1         0  ultralytics.nn.modules.conv.Concat           [1]                           \n",
            " 17                  -1  4   1335040  ultralytics.nn.modules.block.C3              [640, 320, 4, False]          \n",
            " 18                  -1  1    922240  ultralytics.nn.modules.conv.Conv             [320, 320, 3, 2]              \n",
            " 19            [-1, 14]  1         0  ultralytics.nn.modules.conv.Concat           [1]                           \n",
            " 20                  -1  4   4922880  ultralytics.nn.modules.block.C3              [640, 640, 4, False]          \n",
            " 21                  -1  1   3687680  ultralytics.nn.modules.conv.Conv             [640, 640, 3, 2]              \n",
            " 22            [-1, 10]  1         0  ultralytics.nn.modules.conv.Concat           [1]                           \n",
            " 23                  -1  4  19676160  ultralytics.nn.modules.block.C3              [1280, 1280, 4, False]        \n",
            " 24        [17, 20, 23]  1  11025820  ultralytics.nn.modules.head.Detect           [4, [320, 640, 1280]]         \n",
            "YOLOv5x summary: 493 layers, 97203260 parameters, 97203244 gradients, 246.9 GFLOPs\n",
            "\n",
            "Transferred 817/823 items from pretrained weights\n",
            "Freezing layer 'model.24.dfl.conv.weight'\n",
            "\u001b[34m\u001b[1mtrain: \u001b[0mScanning /Users/noor/code/opencv-football/training/football-players-detec\u001b[0m\n",
            "\u001b[34m\u001b[1mtrain: \u001b[0mNew cache created: /Users/noor/code/opencv-football/training/football-players-detection-1/football-players-detection-1/train/labels.cache\n",
            "\u001b[34m\u001b[1mval: \u001b[0mScanning /Users/noor/code/opencv-football/training/football-players-detecti\u001b[0m\n",
            "\u001b[34m\u001b[1mval: \u001b[0mNew cache created: /Users/noor/code/opencv-football/training/football-players-detection-1/football-players-detection-1/valid/labels.cache\n",
            "Plotting labels to runs/detect/train/labels.jpg... \n",
            "\u001b[34m\u001b[1moptimizer:\u001b[0m 'optimizer=auto' found, ignoring 'lr0=0.01' and 'momentum=0.937' and determining best 'optimizer', 'lr0' and 'momentum' automatically... \n",
            "\u001b[34m\u001b[1moptimizer:\u001b[0m AdamW(lr=0.00125, momentum=0.9) with parameter groups 135 weight(decay=0.0), 142 weight(decay=0.00046875), 141 bias(decay=0.0)\n",
            "Image sizes 640 train, 640 val\n",
            "Using 0 dataloader workers\n",
            "Logging results to \u001b[1mruns/detect/train\u001b[0m\n",
            "Starting training for 100 epochs...\n",
            "\n",
            "      Epoch    GPU_mem   box_loss   cls_loss   dfl_loss  Instances       Size\n",
            "  0%|          | 0/41 [00:00<?, ?it/s]^C\n"
          ]
        }
      ],
      "source": [
        "# terminal command with ultralytics\n",
        "!yolo task=detect mode=train model=yolov5x.pt data={dataset.location}/data.yaml epochs=100 imgsz=640 batch=15\n"
      ]
    },
    {
      "cell_type": "code",
      "execution_count": null,
      "metadata": {
        "colab": {
          "base_uri": "https://localhost:8080/"
        },
        "id": "rHTH_kXijQUd",
        "outputId": "3037533e-7616-4e83-e9b3-2b159a47b13d"
      },
      "outputs": [
        {
          "name": "stdout",
          "output_type": "stream",
          "text": [
            "  adding: content/runs/detect/train2/weights/ (stored 0%)\n",
            "  adding: content/runs/detect/train2/weights/best.pt (deflated 8%)\n",
            "  adding: content/runs/detect/train2/weights/last.pt (deflated 8%)\n"
          ]
        }
      ],
      "source": [
        "!zip -r '/content/runs/detect/train2/weights/model.zip' '/content/runs/detect/train2/weights'"
      ]
    },
    {
      "cell_type": "code",
      "execution_count": null,
      "metadata": {
        "colab": {
          "base_uri": "https://localhost:8080/"
        },
        "id": "L-D92WIpkdGc",
        "outputId": "8fe52e61-245a-4715-ade3-ff59567dd856"
      },
      "outputs": [
        {
          "name": "stdout",
          "output_type": "stream",
          "text": [
            "total 714M\n",
            "-rw-r--r-- 1 root root 186M May 21 18:40 best.pt\n",
            "-rw-r--r-- 1 root root 186M May 21 18:40 last.pt\n",
            "-rw-r--r-- 1 root root 343M May 21 19:12 model.zip\n"
          ]
        }
      ],
      "source": [
        "!ls -lh /content/runs/detect/train2/weights"
      ]
    }
  ],
  "metadata": {
    "accelerator": "GPU",
    "colab": {
      "gpuType": "T4",
      "provenance": []
    },
    "kernelspec": {
      "display_name": "Python 3",
      "name": "python3"
    },
    "language_info": {
      "codemirror_mode": {
        "name": "ipython",
        "version": 3
      },
      "file_extension": ".py",
      "mimetype": "text/x-python",
      "name": "python",
      "nbconvert_exporter": "python",
      "pygments_lexer": "ipython3",
      "version": "3.9.6"
    },
    "orig_nbformat": 4
  },
  "nbformat": 4,
  "nbformat_minor": 0
}
